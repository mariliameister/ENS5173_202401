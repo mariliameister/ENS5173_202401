{
 "cells": [
  {
   "cell_type": "markdown",
   "id": "f498f5b2-518b-4e38-bd5d-dc3c61965241",
   "metadata": {},
   "source": [
    "# Aula 02 - Python"
   ]
  },
  {
   "cell_type": "markdown",
   "id": "8a0bfec7-a692-496f-8591-e9284b1369bd",
   "metadata": {},
   "source": [
    "## Dados numéricos"
   ]
  },
  {
   "cell_type": "code",
   "execution_count": 6,
   "id": "c1b20afa-f02e-40f8-bcd6-a105a8cfea0c",
   "metadata": {},
   "outputs": [
    {
     "name": "stdout",
     "output_type": "stream",
     "text": [
      "Valor de a= 1\n"
     ]
    },
    {
     "data": {
      "text/plain": [
       "int"
      ]
     },
     "execution_count": 6,
     "metadata": {},
     "output_type": "execute_result"
    }
   ],
   "source": [
    "# Variável inteira\n",
    "a = 1\n",
    "print('Valor de a= '+str(a))\n",
    "type(a)"
   ]
  },
  {
   "cell_type": "code",
   "execution_count": 7,
   "id": "ce9ba3e5-4fb7-4cd3-b600-f830d5003d6e",
   "metadata": {},
   "outputs": [
    {
     "name": "stdout",
     "output_type": "stream",
     "text": [
      "1.0\n"
     ]
    },
    {
     "data": {
      "text/plain": [
       "float"
      ]
     },
     "execution_count": 7,
     "metadata": {},
     "output_type": "execute_result"
    }
   ],
   "source": [
    "# Variável dupla precisão\n",
    "b = 1.0\n",
    "print(b)\n",
    "type(b)"
   ]
  },
  {
   "cell_type": "code",
   "execution_count": 8,
   "id": "7a9f06e0-de7a-4bb5-9ed3-9ecb9cdf75b5",
   "metadata": {},
   "outputs": [
    {
     "name": "stdout",
     "output_type": "stream",
     "text": [
      "1\n"
     ]
    },
    {
     "data": {
      "text/plain": [
       "int"
      ]
     },
     "execution_count": 8,
     "metadata": {},
     "output_type": "execute_result"
    }
   ],
   "source": [
    "# Converter float para int\n",
    "c = int(b)\n",
    "print(c)\n",
    "type(c)"
   ]
  },
  {
   "cell_type": "code",
   "execution_count": 9,
   "id": "0c2695d9-5387-4859-87ab-b6298b41e899",
   "metadata": {},
   "outputs": [
    {
     "name": "stdout",
     "output_type": "stream",
     "text": [
      "nan\n"
     ]
    },
    {
     "data": {
      "text/plain": [
       "float"
      ]
     },
     "execution_count": 9,
     "metadata": {},
     "output_type": "execute_result"
    }
   ],
   "source": [
    "# Delacrando nan\n",
    "import numpy as np\n",
    "d = np.nan\n",
    "print(d)\n",
    "type(d)"
   ]
  },
  {
   "cell_type": "code",
   "execution_count": 12,
   "id": "5f181aef-847b-4051-a0a0-8397a9a74917",
   "metadata": {},
   "outputs": [
    {
     "name": "stdout",
     "output_type": "stream",
     "text": [
      "nan\n",
      "nan\n",
      "1.0\n"
     ]
    }
   ],
   "source": [
    "# Operação com NaN. Obs.: A propriedade global NaN é um valor especial que significa Not-A-Number (não é um número).\n",
    "# nansum — Soma de valores ignorando NAN's\n",
    "e = d*1\n",
    "print(e)\n",
    "e = d+1\n",
    "print(e)\n",
    "e = np.nansum([d,1])\n",
    "print(e)"
   ]
  },
  {
   "cell_type": "markdown",
   "id": "77c4cc67-0718-4a6d-a1f8-0f20fe3edd29",
   "metadata": {},
   "source": [
    "## Dados de Texto"
   ]
  },
  {
   "cell_type": "code",
   "execution_count": 14,
   "id": "e92e17d3-d20b-4793-b878-6e20f14ee297",
   "metadata": {},
   "outputs": [
    {
     "name": "stdout",
     "output_type": "stream",
     "text": [
      "Fábio\n",
      "Gabriel\n",
      "FábioGabriel\n",
      "Fábio Gabriel\n"
     ]
    }
   ],
   "source": [
    "# Declaração de variável texto\n",
    "f = 'Fábio'\n",
    "g = \"Gabriel\"\n",
    "print(f)\n",
    "print(g)\n",
    "print(f+g)\n",
    "print(f+' '+g)"
   ]
  },
  {
   "cell_type": "markdown",
   "id": "1ebbd20e-5dae-4d2e-9482-65de2284b458",
   "metadata": {},
   "source": [
    "## Dados tipo bool - lógica"
   ]
  },
  {
   "cell_type": "code",
   "execution_count": 16,
   "id": "8fe314df-b385-4c20-be9e-b1430b53b4cb",
   "metadata": {},
   "outputs": [
    {
     "data": {
      "text/plain": [
       "True"
      ]
     },
     "execution_count": 16,
     "metadata": {},
     "output_type": "execute_result"
    }
   ],
   "source": [
    "# True siginifica que o resultado é verdadeiro\n",
    "a == 1"
   ]
  },
  {
   "cell_type": "code",
   "execution_count": 19,
   "id": "fd03a15f-2130-4951-a831-074a7c5cba59",
   "metadata": {},
   "outputs": [
    {
     "name": "stdout",
     "output_type": "stream",
     "text": [
      "True\n"
     ]
    },
    {
     "data": {
      "text/plain": [
       "bool"
      ]
     },
     "execution_count": 19,
     "metadata": {},
     "output_type": "execute_result"
    }
   ],
   "source": [
    "h = (a==1)\n",
    "print(h)\n",
    "type(h)"
   ]
  },
  {
   "cell_type": "code",
   "execution_count": 18,
   "id": "0d749552-289c-4f6a-aa7e-1b2242a02cd3",
   "metadata": {},
   "outputs": [
    {
     "data": {
      "text/plain": [
       "bool"
      ]
     },
     "execution_count": 18,
     "metadata": {},
     "output_type": "execute_result"
    }
   ],
   "source": [
    "i = True\n",
    "type(i)"
   ]
  },
  {
   "cell_type": "code",
   "execution_count": 20,
   "id": "1efe3b9c-ea00-40e7-88c2-3594ce74c85c",
   "metadata": {},
   "outputs": [
    {
     "data": {
      "text/plain": [
       "str"
      ]
     },
     "execution_count": 20,
     "metadata": {},
     "output_type": "execute_result"
    }
   ],
   "source": [
    "ii = 'True'\n",
    "type(ii)"
   ]
  },
  {
   "cell_type": "markdown",
   "id": "1e98cb4d-1c18-42c5-85ed-52c0c2dfc445",
   "metadata": {},
   "source": [
    "## Operação de comparação"
   ]
  },
  {
   "cell_type": "code",
   "execution_count": 21,
   "id": "8e3517c9-71c0-4ebe-b7ff-ee2983bfaa2a",
   "metadata": {},
   "outputs": [
    {
     "data": {
      "text/plain": [
       "True"
      ]
     },
     "execution_count": 21,
     "metadata": {},
     "output_type": "execute_result"
    }
   ],
   "source": [
    "# Operação ==\n",
    "a==b"
   ]
  },
  {
   "cell_type": "code",
   "execution_count": 22,
   "id": "1f727f40-8832-43b7-9922-d2a6ce93c232",
   "metadata": {},
   "outputs": [
    {
     "data": {
      "text/plain": [
       "False"
      ]
     },
     "execution_count": 22,
     "metadata": {},
     "output_type": "execute_result"
    }
   ],
   "source": [
    "# Operação ><\n",
    "a>b"
   ]
  },
  {
   "cell_type": "code",
   "execution_count": 23,
   "id": "07e314f8-6ca1-45a0-9995-f8fee43e0b16",
   "metadata": {},
   "outputs": [
    {
     "data": {
      "text/plain": [
       "False"
      ]
     },
     "execution_count": 23,
     "metadata": {},
     "output_type": "execute_result"
    }
   ],
   "source": [
    "# Operação !=\n",
    "a!=b"
   ]
  },
  {
   "cell_type": "code",
   "execution_count": 24,
   "id": "8b6b1e20-6824-4aa9-bfa0-a68efd5bdbfb",
   "metadata": {},
   "outputs": [
    {
     "data": {
      "text/plain": [
       "True"
      ]
     },
     "execution_count": 24,
     "metadata": {},
     "output_type": "execute_result"
    }
   ],
   "source": [
    "# Operação >= ou <=\n",
    "a>=b"
   ]
  },
  {
   "cell_type": "markdown",
   "id": "e2704e35-bb69-4e50-8291-d6c2992c3d64",
   "metadata": {},
   "source": [
    "## Operações Matemáticas"
   ]
  },
  {
   "cell_type": "code",
   "execution_count": 25,
   "id": "fbe38b81-7cff-4ed9-875e-6d41c880aada",
   "metadata": {},
   "outputs": [
    {
     "data": {
      "text/plain": [
       "2.0"
      ]
     },
     "execution_count": 25,
     "metadata": {},
     "output_type": "execute_result"
    }
   ],
   "source": [
    "# Soma \n",
    "a+b"
   ]
  },
  {
   "cell_type": "code",
   "execution_count": 26,
   "id": "ab3f0eb7-96d0-4ebc-ab7b-2d9a89274d18",
   "metadata": {},
   "outputs": [
    {
     "name": "stdout",
     "output_type": "stream",
     "text": [
      "2.0\n"
     ]
    }
   ],
   "source": [
    "# Soma e atribui valor\n",
    "ab = a+b\n",
    "print(ab)"
   ]
  },
  {
   "cell_type": "code",
   "execution_count": 27,
   "id": "dc27fead-a297-4802-b57c-3effae7ad0ce",
   "metadata": {},
   "outputs": [
    {
     "name": "stdout",
     "output_type": "stream",
     "text": [
      "Não use l como nome de variável\n",
      "1.0\n"
     ]
    }
   ],
   "source": [
    "# Multiplicação\n",
    "l = a*b # Não use l como variável\n",
    "print(\"Não use l como nome de variável\")\n",
    "j = a*b\n",
    "print(j)"
   ]
  },
  {
   "cell_type": "code",
   "execution_count": 28,
   "id": "a6834d04-9576-4dc2-a91d-9f6ec80f9c7c",
   "metadata": {},
   "outputs": [
    {
     "data": {
      "text/plain": [
       "1.0"
      ]
     },
     "execution_count": 28,
     "metadata": {},
     "output_type": "execute_result"
    }
   ],
   "source": [
    "# Divisão\n",
    "a/b"
   ]
  },
  {
   "cell_type": "code",
   "execution_count": 29,
   "id": "b5e23048-034c-443c-ac9a-86071f56343f",
   "metadata": {},
   "outputs": [
    {
     "data": {
      "text/plain": [
       "25"
      ]
     },
     "execution_count": 29,
     "metadata": {},
     "output_type": "execute_result"
    }
   ],
   "source": [
    "# Potencia\n",
    "5**2"
   ]
  },
  {
   "cell_type": "code",
   "execution_count": 30,
   "id": "f3b51792-c51c-440e-862b-6d473f726848",
   "metadata": {},
   "outputs": [
    {
     "data": {
      "text/plain": [
       "22026.465794806718"
      ]
     },
     "execution_count": 30,
     "metadata": {},
     "output_type": "execute_result"
    }
   ],
   "source": [
    "# Operações matemáticas com a bibliotéca math\n",
    "import math\n",
    "\n",
    "math.exp(10)"
   ]
  },
  {
   "cell_type": "code",
   "execution_count": 31,
   "id": "5e9db0c9-f501-4dae-8422-189da76c272a",
   "metadata": {},
   "outputs": [
    {
     "data": {
      "text/plain": [
       "1.0"
      ]
     },
     "execution_count": 31,
     "metadata": {},
     "output_type": "execute_result"
    }
   ],
   "source": [
    "math.exp(0)"
   ]
  },
  {
   "cell_type": "code",
   "execution_count": 32,
   "id": "0eaf6eea-99c9-4ad3-8a8b-c6623ed8060b",
   "metadata": {},
   "outputs": [
    {
     "data": {
      "text/plain": [
       "2.718281828459045"
      ]
     },
     "execution_count": 32,
     "metadata": {},
     "output_type": "execute_result"
    }
   ],
   "source": [
    "math.exp(a)"
   ]
  },
  {
   "cell_type": "code",
   "execution_count": 33,
   "id": "75336bf4-8bc0-42cb-a172-9c9919f2ea44",
   "metadata": {},
   "outputs": [
    {
     "data": {
      "text/plain": [
       "4.5399929762484854e-05"
      ]
     },
     "execution_count": 33,
     "metadata": {},
     "output_type": "execute_result"
    }
   ],
   "source": [
    "math.exp(-10)"
   ]
  },
  {
   "cell_type": "code",
   "execution_count": 34,
   "id": "1fa96029-bef5-4de4-af82-d60c9ae004d1",
   "metadata": {},
   "outputs": [
    {
     "data": {
      "text/plain": [
       "0.0"
      ]
     },
     "execution_count": 34,
     "metadata": {},
     "output_type": "execute_result"
    }
   ],
   "source": [
    "import math as mt\n",
    "mt.log(c)"
   ]
  },
  {
   "cell_type": "code",
   "execution_count": 35,
   "id": "f5ac396c-8d8b-43d9-b38e-9ef8add1f503",
   "metadata": {},
   "outputs": [
    {
     "data": {
      "text/plain": [
       "2.0"
      ]
     },
     "execution_count": 35,
     "metadata": {},
     "output_type": "execute_result"
    }
   ],
   "source": [
    "mt.log10(100)"
   ]
  },
  {
   "cell_type": "markdown",
   "id": "7535d0c2-01bb-43af-8ce3-4e1ccf958b75",
   "metadata": {},
   "source": [
    "## Listas"
   ]
  },
  {
   "cell_type": "code",
   "execution_count": 36,
   "id": "19ea9f7a-3b75-47e2-89f7-6f67bccfb7bf",
   "metadata": {},
   "outputs": [
    {
     "name": "stdout",
     "output_type": "stream",
     "text": [
      "[1, 2, 3]\n"
     ]
    }
   ],
   "source": [
    "myFirstList = [1,2,3]\n",
    "print(myFirstList)"
   ]
  },
  {
   "cell_type": "code",
   "execution_count": 37,
   "id": "9080f771-7c9e-4c21-9e1f-fc16232514d4",
   "metadata": {},
   "outputs": [
    {
     "name": "stdout",
     "output_type": "stream",
     "text": [
      "1\n",
      "3\n"
     ]
    }
   ],
   "source": [
    "# Acessando valores da lista pelo index\n",
    "print(myFirstList[0])\n",
    "print(myFirstList[2])"
   ]
  },
  {
   "cell_type": "code",
   "execution_count": 38,
   "id": "3a16f1a8-4dfc-4b57-b8f7-f224d92a684d",
   "metadata": {},
   "outputs": [
    {
     "data": {
      "text/plain": [
       "False"
      ]
     },
     "execution_count": 38,
     "metadata": {},
     "output_type": "execute_result"
    }
   ],
   "source": [
    "myFirstList==a"
   ]
  },
  {
   "cell_type": "code",
   "execution_count": 39,
   "id": "a0e42bc4-3d0d-4a0a-a0b8-48044dd7374f",
   "metadata": {},
   "outputs": [
    {
     "data": {
      "text/plain": [
       "True"
      ]
     },
     "execution_count": 39,
     "metadata": {},
     "output_type": "execute_result"
    }
   ],
   "source": [
    "myFirstList[0]==a"
   ]
  },
  {
   "cell_type": "code",
   "execution_count": 40,
   "id": "741e8c10-8432-4c96-b880-f224a22a50de",
   "metadata": {},
   "outputs": [
    {
     "name": "stdout",
     "output_type": "stream",
     "text": [
      "[1, 1, 'c']\n"
     ]
    }
   ],
   "source": [
    "mySecList = [1,a,'c']\n",
    "print(mySecList)"
   ]
  },
  {
   "cell_type": "code",
   "execution_count": 41,
   "id": "dbf636c1-7bab-4a07-9dab-85f1ff047b1f",
   "metadata": {},
   "outputs": [
    {
     "data": {
      "text/plain": [
       "list"
      ]
     },
     "execution_count": 41,
     "metadata": {},
     "output_type": "execute_result"
    }
   ],
   "source": [
    "type(mySecList)"
   ]
  },
  {
   "cell_type": "code",
   "execution_count": 42,
   "id": "6f2864c8-db30-4251-be9c-8f492f14f017",
   "metadata": {},
   "outputs": [
    {
     "data": {
      "text/plain": [
       "str"
      ]
     },
     "execution_count": 42,
     "metadata": {},
     "output_type": "execute_result"
    }
   ],
   "source": [
    "type(mySecList[2])"
   ]
  },
  {
   "cell_type": "code",
   "execution_count": 43,
   "id": "85537aac-bbd2-491f-acda-6fae21c22908",
   "metadata": {},
   "outputs": [
    {
     "data": {
      "text/plain": [
       "int"
      ]
     },
     "execution_count": 43,
     "metadata": {},
     "output_type": "execute_result"
    }
   ],
   "source": [
    "type(mySecList[1])"
   ]
  },
  {
   "cell_type": "markdown",
   "id": "81db125d-b5e9-43c3-bc66-9344a2b9cbc2",
   "metadata": {},
   "source": [
    "## Caminhos = path"
   ]
  },
  {
   "cell_type": "code",
   "execution_count": 44,
   "id": "8c07cde4-7bec-4b53-a55f-bd595325a919",
   "metadata": {},
   "outputs": [
    {
     "name": "stdout",
     "output_type": "stream",
     "text": [
      "C:\\Users\\Marilia\\Documents\\ENS5173_202401\\ENS5173_202401\n"
     ]
    }
   ],
   "source": [
    "path = r\"C:\\Users\\Marilia\\Documents\\ENS5173_202401\\ENS5173_202401\"\n",
    "print(path)"
   ]
  },
  {
   "cell_type": "code",
   "execution_count": 45,
   "id": "295d3cf8-4de1-49ba-a6cc-f827befac81d",
   "metadata": {},
   "outputs": [
    {
     "data": {
      "text/plain": [
       "['.git',\n",
       " '.gitignore',\n",
       " 'Aula01.ipynb',\n",
       " 'inputs',\n",
       " 'python',\n",
       " 'README.md',\n",
       " 'scripts',\n",
       " 'venv']"
      ]
     },
     "execution_count": 45,
     "metadata": {},
     "output_type": "execute_result"
    }
   ],
   "source": [
    "import os\n",
    "# Listar arquivos na pasta\n",
    "os.listdir(path)"
   ]
  },
  {
   "cell_type": "code",
   "execution_count": 46,
   "id": "66934101-3b27-4907-899e-4e65b69295da",
   "metadata": {},
   "outputs": [
    {
     "data": {
      "text/plain": [
       "'.git'"
      ]
     },
     "execution_count": 46,
     "metadata": {},
     "output_type": "execute_result"
    }
   ],
   "source": [
    "# Selecionar primeiro arquivo listado\n",
    "os.listdir(path)[0]"
   ]
  },
  {
   "cell_type": "code",
   "execution_count": 47,
   "id": "e19124b6-a4d5-4938-808d-43e22453493c",
   "metadata": {},
   "outputs": [
    {
     "data": {
      "text/plain": [
       "'C:\\\\Users\\\\Marilia\\\\Documents\\\\ENS5173_202401\\\\ENS5173_202401/.git'"
      ]
     },
     "execution_count": 47,
     "metadata": {},
     "output_type": "execute_result"
    }
   ],
   "source": [
    "# Concatenando caminhos\n",
    "path+\"/\"+os.listdir(path)[0]"
   ]
  },
  {
   "cell_type": "code",
   "execution_count": 48,
   "id": "9c0d7b4d-1811-4a9e-9495-f4fb82f407f8",
   "metadata": {},
   "outputs": [
    {
     "data": {
      "text/plain": [
       "['COMMIT_EDITMSG',\n",
       " 'config',\n",
       " 'description',\n",
       " 'FETCH_HEAD',\n",
       " 'HEAD',\n",
       " 'hooks',\n",
       " 'index',\n",
       " 'info',\n",
       " 'logs',\n",
       " 'objects',\n",
       " 'packed-refs',\n",
       " 'refs']"
      ]
     },
     "execution_count": 48,
     "metadata": {},
     "output_type": "execute_result"
    }
   ],
   "source": [
    "# Listando caminho concatenado\n",
    "os.listdir(path+\"/\"+os.listdir(path)[0])"
   ]
  },
  {
   "cell_type": "code",
   "execution_count": 49,
   "id": "b102b66e-05a4-4a6f-af09-45dc4fe13e32",
   "metadata": {},
   "outputs": [
    {
     "data": {
      "text/plain": [
       "'C:\\\\Users\\\\Marilia\\\\Documents\\\\ENS5173_202401\\\\ENS5173_202401\\\\venv\\\\Scripts'"
      ]
     },
     "execution_count": 49,
     "metadata": {},
     "output_type": "execute_result"
    }
   ],
   "source": [
    "# Diretório que estou trababalhando\n",
    "os.getcwd()"
   ]
  },
  {
   "cell_type": "code",
   "execution_count": 53,
   "id": "cec222d2-dd2a-4c49-8617-f08025a3dd44",
   "metadata": {},
   "outputs": [],
   "source": [
    "# Mudo de diretório para o caminho \n",
    "os.chdir('C:\\\\Users\\\\Marilia\\\\Documents\\\\')"
   ]
  },
  {
   "cell_type": "code",
   "execution_count": 54,
   "id": "b95aff6e-cd7c-4afa-8afd-6929f77f4671",
   "metadata": {},
   "outputs": [
    {
     "data": {
      "text/plain": [
       "'C:\\\\Users\\\\Marilia\\\\Documents'"
      ]
     },
     "execution_count": 54,
     "metadata": {},
     "output_type": "execute_result"
    }
   ],
   "source": [
    "os.getcwd()"
   ]
  },
  {
   "cell_type": "code",
   "execution_count": 55,
   "id": "c6ccdbcd-c6c4-47fa-8508-3fcf2f881b2a",
   "metadata": {},
   "outputs": [
    {
     "name": "stdout",
     "output_type": "stream",
     "text": [
      "Criando diretório C:\\Users\\Marilia\\Documents/test\n"
     ]
    }
   ],
   "source": [
    "# Criando diretório\n",
    "new_path = os.getcwd()+'/test'\n",
    "\n",
    "if os.path.isdir(new_path):\n",
    "    print('diretório já existe')\n",
    "else:\n",
    "    print('Criando diretório '+new_path)\n",
    "    os.mkdir(new_path)"
   ]
  },
  {
   "cell_type": "code",
   "execution_count": 56,
   "id": "b7bb64b8-4370-4dee-89c2-7b0c1d850e4a",
   "metadata": {},
   "outputs": [
    {
     "name": "stdout",
     "output_type": "stream",
     "text": [
      "Criando diretório C:\\Users\\Marilia\\Documents/test2\n"
     ]
    }
   ],
   "source": [
    "# Criando diretório\n",
    "new_path = os.getcwd()+'/test2'\n",
    "\n",
    "if os.path.isdir(new_path):\n",
    "    print('diretório já existe')\n",
    "    # Criando um arquivo de texto\n",
    "    with open(new_path+\"/copy.txt\", \"w\") as file:\n",
    "        file.write(\"Your text goes here\")\n",
    "else:\n",
    "    print('Criando diretório '+new_path)\n",
    "    os.mkdir(new_path)\n",
    "    with open(new_path+\"/copy.txt\", \"w\") as file:\n",
    "        file.write(\"Your text goes here\")"
   ]
  },
  {
   "cell_type": "markdown",
   "id": "36e58f18-18b4-4d69-85bd-6971a656b5d5",
   "metadata": {},
   "source": [
    "## Numpy array e Pandas DataFrames"
   ]
  },
  {
   "cell_type": "code",
   "execution_count": 57,
   "id": "51eed83f-5665-4eb8-8612-681053e5b63a",
   "metadata": {},
   "outputs": [
    {
     "data": {
      "text/plain": [
       "numpy.ndarray"
      ]
     },
     "execution_count": 57,
     "metadata": {},
     "output_type": "execute_result"
    }
   ],
   "source": [
    "import numpy as np\n",
    "# Criando uma variável numpy\n",
    "n = np.array(0)\n",
    "type(n)"
   ]
  },
  {
   "cell_type": "code",
   "execution_count": 58,
   "id": "c7406585-f5b6-4066-a5d1-ea484a4542fe",
   "metadata": {},
   "outputs": [
    {
     "name": "stdout",
     "output_type": "stream",
     "text": [
      "[ 1  2  3 10 20 55]\n"
     ]
    }
   ],
   "source": [
    "# Criando uma variável numpy a partir de uma lista\n",
    "myThirdList=[1,2,3,10,20,55]\n",
    "n = np.array(myThirdList)\n",
    "print(n)"
   ]
  },
  {
   "cell_type": "code",
   "execution_count": 59,
   "id": "1f2ce066-cd3e-4fb2-b6ed-dffafe8da788",
   "metadata": {},
   "outputs": [
    {
     "name": "stdout",
     "output_type": "stream",
     "text": [
      "[[1.82308094e-01 3.43074016e-01 6.57986214e-01 5.83264053e-01\n",
      "  1.11592324e-01 5.29077030e-01 9.27711877e-01 7.70203027e-01\n",
      "  6.86558836e-01 2.70772137e-02]\n",
      " [8.64812392e-01 9.47881642e-02 9.43735907e-01 5.48239386e-01\n",
      "  9.87575062e-02 1.88991013e-02 3.38126076e-01 1.53042161e-01\n",
      "  8.87409289e-01 9.35577078e-01]\n",
      " [2.51468308e-01 7.87956457e-01 8.03548014e-01 1.51635928e-01\n",
      "  2.76587937e-01 8.42003511e-01 7.22578759e-01 6.23934878e-01\n",
      "  2.52903162e-01 3.50866192e-01]\n",
      " [2.69327820e-01 3.81655293e-01 3.63803386e-01 2.87897626e-01\n",
      "  7.94962854e-01 2.56313509e-01 4.38104224e-01 6.52192140e-01\n",
      "  9.64575484e-02 7.46693827e-01]\n",
      " [4.61875930e-01 2.03441943e-01 2.09888938e-01 6.83124938e-01\n",
      "  1.25671192e-01 3.90773676e-01 8.06574928e-01 5.38466926e-01\n",
      "  1.90485975e-01 4.12987862e-01]\n",
      " [5.80669839e-01 9.06448980e-01 8.36851248e-01 6.94107722e-01\n",
      "  5.37213205e-01 1.61515130e-01 5.14037034e-01 6.24098091e-01\n",
      "  3.33570620e-01 4.30368553e-01]\n",
      " [9.43352917e-01 2.41324399e-01 7.31922880e-01 4.31971708e-01\n",
      "  4.42236901e-01 7.49326790e-01 5.17666163e-01 1.52138712e-01\n",
      "  2.60659793e-01 4.69940141e-01]\n",
      " [4.41962565e-01 2.24121783e-01 6.72027114e-01 5.97055645e-01\n",
      "  2.72679771e-01 4.11877254e-01 5.94398035e-01 5.55903495e-01\n",
      "  8.00999091e-02 9.09585177e-01]\n",
      " [7.13671118e-05 2.49104493e-01 9.07704948e-01 1.75855765e-01\n",
      "  6.08878890e-01 4.35459749e-02 6.88946764e-01 6.60648144e-01\n",
      "  9.39627557e-01 5.18899736e-01]\n",
      " [6.22101112e-01 8.44227916e-01 8.84221906e-01 1.12136241e-02\n",
      "  5.58677694e-01 8.81658170e-01 1.00877269e-01 4.43457423e-02\n",
      "  8.73064722e-01 2.97918934e-01]]\n",
      "(10, 10)\n"
     ]
    }
   ],
   "source": [
    "# Criando uma matriz de 10x10 de números aleatórios entre 0 e 1\n",
    "n = np.random.rand(10,10)\n",
    "print(n)\n",
    "# Dimensões da matrix\n",
    "print(n.shape)"
   ]
  },
  {
   "cell_type": "code",
   "execution_count": 60,
   "id": "855bcb81-61cf-4f4e-ae6a-52fdf08a22ae",
   "metadata": {},
   "outputs": [
    {
     "data": {
      "text/plain": [
       "array([0.18230809, 0.34307402, 0.65798621, 0.58326405, 0.11159232,\n",
       "       0.52907703, 0.92771188, 0.77020303, 0.68655884, 0.02707721])"
      ]
     },
     "execution_count": 60,
     "metadata": {},
     "output_type": "execute_result"
    }
   ],
   "source": [
    "# Acessando valores da matriz\n",
    "n[0,:]"
   ]
  },
  {
   "cell_type": "code",
   "execution_count": 61,
   "id": "fd77b950-90b4-4c01-a147-0550dc5ca32a",
   "metadata": {},
   "outputs": [
    {
     "data": {
      "text/plain": [
       "array([1.82308094e-01, 8.64812392e-01, 2.51468308e-01, 2.69327820e-01,\n",
       "       4.61875930e-01, 5.80669839e-01, 9.43352917e-01, 4.41962565e-01,\n",
       "       7.13671118e-05, 6.22101112e-01])"
      ]
     },
     "execution_count": 61,
     "metadata": {},
     "output_type": "execute_result"
    }
   ],
   "source": [
    "n[:,0]"
   ]
  },
  {
   "cell_type": "code",
   "execution_count": 62,
   "id": "f816185e-91ab-4a53-930a-a12a88afe112",
   "metadata": {},
   "outputs": [
    {
     "data": {
      "text/plain": [
       "array([[0.34307402, 0.65798621, 0.58326405, 0.11159232],\n",
       "       [0.09478816, 0.94373591, 0.54823939, 0.09875751],\n",
       "       [0.78795646, 0.80354801, 0.15163593, 0.27658794],\n",
       "       [0.38165529, 0.36380339, 0.28789763, 0.79496285],\n",
       "       [0.20344194, 0.20988894, 0.68312494, 0.12567119],\n",
       "       [0.90644898, 0.83685125, 0.69410772, 0.5372132 ],\n",
       "       [0.2413244 , 0.73192288, 0.43197171, 0.4422369 ],\n",
       "       [0.22412178, 0.67202711, 0.59705565, 0.27267977],\n",
       "       [0.24910449, 0.90770495, 0.17585577, 0.60887889],\n",
       "       [0.84422792, 0.88422191, 0.01121362, 0.55867769]])"
      ]
     },
     "execution_count": 62,
     "metadata": {},
     "output_type": "execute_result"
    }
   ],
   "source": [
    "n[:,1:5]"
   ]
  },
  {
   "cell_type": "code",
   "execution_count": 63,
   "id": "3bc4da44-2bde-47ff-b7ab-2514c8979241",
   "metadata": {},
   "outputs": [
    {
     "data": {
      "text/plain": [
       "array([0.34307402, 0.65798621, 0.58326405, 0.11159232])"
      ]
     },
     "execution_count": 63,
     "metadata": {},
     "output_type": "execute_result"
    }
   ],
   "source": [
    "n[0,1:5]"
   ]
  },
  {
   "cell_type": "code",
   "execution_count": 64,
   "id": "e54172d0-434a-4b63-92ee-eb5a97d323ef",
   "metadata": {},
   "outputs": [
    {
     "data": {
      "text/plain": [
       "0.02707721370399907"
      ]
     },
     "execution_count": 64,
     "metadata": {},
     "output_type": "execute_result"
    }
   ],
   "source": [
    "n[0,-1]"
   ]
  },
  {
   "cell_type": "code",
   "execution_count": 65,
   "id": "bfde4886-cdee-4421-8a45-8cf41250c5bd",
   "metadata": {},
   "outputs": [
    {
     "data": {
      "text/plain": [
       "array([0.11159232, 0.52907703, 0.92771188, 0.77020303, 0.68655884])"
      ]
     },
     "execution_count": 65,
     "metadata": {},
     "output_type": "execute_result"
    }
   ],
   "source": [
    "n[0,4:-1]"
   ]
  },
  {
   "cell_type": "code",
   "execution_count": 66,
   "id": "20407caf-4441-47ba-8ada-44ca5c93e0a2",
   "metadata": {},
   "outputs": [
    {
     "data": {
      "text/plain": [
       "array([0.11159232, 0.52907703, 0.92771188, 0.77020303, 0.68655884,\n",
       "       0.02707721])"
      ]
     },
     "execution_count": 66,
     "metadata": {},
     "output_type": "execute_result"
    }
   ],
   "source": [
    "n[0,4:]"
   ]
  },
  {
   "cell_type": "code",
   "execution_count": 67,
   "id": "13c16a6d-91a3-4e7d-adf4-66d45bd26fd1",
   "metadata": {},
   "outputs": [
    {
     "name": "stdout",
     "output_type": "stream",
     "text": [
      "[[-0.09261929  0.53962885  1.19086661  1.07032264 -0.5834651   0.97281667\n",
      "   1.53440384  1.34833679  1.23337456 -1.99962482]\n",
      " [ 1.46419523 -0.74667281  1.551529    1.00839466 -0.70564995 -2.359203\n",
      "   0.52510146 -0.26760392  1.48998894  1.54284617]\n",
      " [ 0.2289996   1.37112546  1.39071957 -0.27683493  0.32421144  1.43746682\n",
      "   1.28450906  1.13772863  0.23468929  0.56208757]\n",
      " [ 0.29761193  0.64620046  0.59829621  0.36428759  1.37997802  0.24808397\n",
      "   0.78413947  1.18202184 -0.72921437  1.31733786]\n",
      " [ 0.83697894  0.01706331  0.04826116  1.2283604  -0.46464846  0.66981119\n",
      "   1.39447943  0.99040871 -0.0487388   0.72510084]\n",
      " [ 1.06586497  1.51121738  1.43132897  1.2443098   0.98807768 -0.21371854\n",
      "   0.94397795  1.13799019  0.51153723  0.76632457]\n",
      " [ 1.5511231   0.18782471  1.29735779  0.77004273  0.79352835  1.32085782\n",
      "   0.95101319 -0.27352468  0.26489871  0.85428796]\n",
      " [ 0.79290782  0.11387221  1.21198132  1.09369295  0.30998074  0.72240801\n",
      "   1.08923182  1.02227734 -0.91504265  1.51467128]\n",
      " [-7.9382355   0.21955509  1.51260201 -0.12865322  1.11330201 -1.52450009\n",
      "   1.23684664  1.19490402  1.54716621  0.95339331]\n",
      " [ 1.13478527  1.44010513  1.48639069 -2.88118789  1.02725536  1.48348705\n",
      "  -0.68441275 -1.50630067  1.47369232  0.39850405]]\n"
     ]
    }
   ],
   "source": [
    "an = np.log(n*5)\n",
    "print(an)"
   ]
  },
  {
   "cell_type": "code",
   "execution_count": null,
   "id": "00239989-04fd-47da-935b-195561e8b29e",
   "metadata": {},
   "outputs": [],
   "source": []
  }
 ],
 "metadata": {
  "kernelspec": {
   "display_name": "Python 3 (ipykernel)",
   "language": "python",
   "name": "python3"
  },
  "language_info": {
   "codemirror_mode": {
    "name": "ipython",
    "version": 3
   },
   "file_extension": ".py",
   "mimetype": "text/x-python",
   "name": "python",
   "nbconvert_exporter": "python",
   "pygments_lexer": "ipython3",
   "version": "3.11.8"
  }
 },
 "nbformat": 4,
 "nbformat_minor": 5
}
