{
 "cells": [
  {
   "cell_type": "code",
   "execution_count": 1,
   "id": "91a1ebe1-2486-4eb1-bd8f-e168fd4b610a",
   "metadata": {},
   "outputs": [
    {
     "name": "stdout",
     "output_type": "stream",
     "text": [
      "Guilhermegente fina\n"
     ]
    }
   ],
   "source": [
    "# Tipos de variáveis string\n",
    "a= 'Guilherme'\n",
    "b= a + 'gente fina'\n",
    "print(b)\n"
   ]
  },
  {
   "cell_type": "code",
   "execution_count": 2,
   "id": "1abb7b06-70b0-4f7a-818d-0d7a2da05d34",
   "metadata": {},
   "outputs": [
    {
     "name": "stdout",
     "output_type": "stream",
     "text": [
      "11\n",
      "<class 'int'>\n"
     ]
    }
   ],
   "source": [
    "# Tipos de variáveis - inteira\n",
    "\n",
    "c=1\n",
    "d =c+10\n",
    "print(d)\n",
    "print(type(d))"
   ]
  },
  {
   "cell_type": "code",
   "execution_count": 14,
   "id": "dc846889-dc5d-43af-87fd-22f63c6f2181",
   "metadata": {},
   "outputs": [
    {
     "name": "stdout",
     "output_type": "stream",
     "text": [
      "valor de g = 21.0 e o valor de h = 110.25\n",
      "<class 'float'>\n",
      "<class 'int'>\n",
      "Valor de f = 10 do tipo = <class 'int'>\n"
     ]
    }
   ],
   "source": [
    "# # Tipos de variáveis - floot\n",
    "f=10.5\n",
    "g=f*2\n",
    "h= f**2 #declara ao quadrado\n",
    "print('valor de g = '+str(g) +' e o valor de h = '+ str(h))\n",
    "print(type(h))\n",
    "f = int(f) #receba o valor inteiro de f\n",
    "print(type(f))\n",
    "print('Valor de f = '+str(f)+ ' do tipo = ' +str(type(f)))"
   ]
  },
  {
   "cell_type": "code",
   "execution_count": 36,
   "id": "ddf04983-3aa7-4bc6-b6a3-4c56e1063b57",
   "metadata": {},
   "outputs": [
    {
     "name": "stdout",
     "output_type": "stream",
     "text": [
      "['Guilherme', 'Flavia', 'Lucas']\n",
      "[3, 6, 6]\n",
      "<class 'list'>\n"
     ]
    }
   ],
   "source": [
    "#Exemplo de dicionário\n",
    "\n",
    "dicionario = {\n",
    "    'alunos': ['Guilherme','Flavia', 'Lucas'],\n",
    "    'notas': [3, 6, 6]\n",
    "}\n",
    "\n",
    "print(dicionario['alunos'])\n",
    "print(dicionario['notas'])\n",
    "print(type(dicionario['notas']))"
   ]
  },
  {
   "cell_type": "code",
   "execution_count": 32,
   "id": "ccb64b95-6e73-44f3-af0c-ceca22f758c5",
   "metadata": {},
   "outputs": [
    {
     "name": "stdout",
     "output_type": "stream",
     "text": [
      "0 Guilher nota = 3\n",
      "1 Flavia nota = 6\n",
      "2 Lucas nota = 6\n",
      " \n",
      "0 Guilher nota = 3\n",
      "1 Flavia nota = 6\n",
      "2 Lucas nota = 6\n"
     ]
    }
   ],
   "source": [
    "#treinando loop\n",
    "\n",
    "for ii,aluno in enumerate(dicionario['alunos']): #in enumerate está numeroando os itens da lista\n",
    "    print(str(ii) +' '+ aluno + ' nota = ' +str(dicionario['notas'][ii]))\n",
    "print(' ')\n",
    "for ii in range(0,len(dicionario['alunos'])):\n",
    "        print(str(ii) +' '+ str(dicionario['alunos'][ii]) + ' nota = ' +str(dicionario['notas'][ii]))"
   ]
  },
  {
   "cell_type": "code",
   "execution_count": 39,
   "id": "4e33a0ac-d4c5-4a28-b04c-397fc9528fc1",
   "metadata": {},
   "outputs": [
    {
     "name": "stdout",
     "output_type": "stream",
     "text": [
      "0 Guilherme nota = 10\n",
      "1 Flavia nota = 6\n",
      "2 Lucas nota = 6\n",
      " \n",
      "0 Guilherme nota = 3\n",
      "1 Flavia nota = 6\n",
      "2 Lucas nota = 10\n"
     ]
    }
   ],
   "source": [
    "#treinando loop condição\n",
    "for ii,aluno in enumerate(dicionario['alunos']):\n",
    "    if aluno == 'Guilherme': ## == significa que estou comparando\n",
    "        print(str(ii) +' '+ aluno + ' nota = 10')\n",
    "    else:\n",
    "        print(str(ii) +' '+ aluno + ' nota = ' +str(dicionario['notas'][ii]))\n",
    "print(' ')\n",
    "\n",
    "for ii,aluno in enumerate(dicionario['alunos']):\n",
    "    if ii == 2:\n",
    "        print(str(ii) +' '+ aluno + ' nota = 10')\n",
    "    else:\n",
    "        print(str(ii) +' '+ aluno + ' nota = ' +str(dicionario['notas'][ii]))"
   ]
  },
  {
   "cell_type": "code",
   "execution_count": 54,
   "id": "1fa729e1-2ef6-41e5-ae6b-64b87477d598",
   "metadata": {},
   "outputs": [
    {
     "name": "stdout",
     "output_type": "stream",
     "text": [
      "False\n",
      "False\n",
      "False\n",
      "True\n",
      "False\n",
      "True\n",
      "False\n",
      "<class 'bool'>\n"
     ]
    }
   ],
   "source": [
    "#Operações lógicas\n",
    "a= 1\n",
    "b= 3\n",
    "c=1\n",
    "\n",
    "print(a==b) #igual a - operação lógixa\n",
    "print(a==b) \n",
    "print (a>b) #maior que\n",
    "print (a<b) #menor que\n",
    "print (a>=b)#maior igual\n",
    "print(a!=b) #diferente de\n",
    "print(a!=c) #diferente de\n",
    "\n",
    "opTF = a!=c\n",
    "print(type(opTF))\n",
    "\n",
    "opT = True\n",
    "opF = False"
   ]
  },
  {
   "cell_type": "code",
   "execution_count": null,
   "id": "56265484-29aa-4fef-b73c-dd88c0cb6ad6",
   "metadata": {},
   "outputs": [],
   "source": []
  },
  {
   "cell_type": "code",
   "execution_count": 62,
   "id": "8bf2add8-7c09-43d2-9a13-8c879f52a2ca",
   "metadata": {},
   "outputs": [
    {
     "name": "stdout",
     "output_type": "stream",
     "text": [
      "0 Guilherme nota = 9.5\n",
      "1 Flavia nota = 6\n",
      "2 Lucas nota = 6\n"
     ]
    }
   ],
   "source": [
    "#treinando\n",
    "dicionario = {\n",
    "    'alunos': ['Guilherme','Flavia', 'Lucas'],\n",
    "    'notas': [9.5, 6, 6]\n",
    "}\n",
    "\n",
    "for ii,aluno in enumerate(dicionario['alunos']):\n",
    "    if (aluno == 'Guilherme') and (dicionario['notas'][ii]<=9): \n",
    "        print(str(ii) +' '+ aluno + ' nota = 10')\n",
    "    else:\n",
    "        print(str(ii) +' '+ aluno + ' nota = ' +str(dicionario['notas'][ii]))"
   ]
  },
  {
   "cell_type": "code",
   "execution_count": 73,
   "id": "d729bb77-58e6-4c3d-b84e-440b7b41cac0",
   "metadata": {},
   "outputs": [
    {
     "name": "stdout",
     "output_type": "stream",
     "text": [
      "['Guilherme' 'Flavia' 'Lucas']\n",
      "<class 'numpy.ndarray'>\n",
      " \n",
      "[False False  True]\n",
      "(array([2], dtype=int64),)\n",
      "\n"
     ]
    },
    {
     "name": "stderr",
     "output_type": "stream",
     "text": [
      "C:\\Users\\Marilia\\AppData\\Local\\Temp\\ipykernel_3596\\4022495799.py:14: DeprecationWarning: Conversion of an array with ndim > 0 to a scalar is deprecated, and will error in future. Ensure you extract a single element from your array before performing this operation. (Deprecated NumPy 1.25.)\n",
      "  dicionario['notas'][int(np.where(mat2)[0])] = 9.5\n"
     ]
    }
   ],
   "source": [
    "#Treinando numpy\n",
    "import numpy as np\n",
    "mat = np.array(dicionario['alunos'])\n",
    "print(mat)\n",
    "print(type(mat))\n",
    "\n",
    "print(' ')\n",
    "mat2 = np.array(mat=='Lucas')\n",
    "print(mat2)\n",
    "#Local da matriz com valor verdadeiro\n",
    "print(np.where(mat2))\n",
    "\n",
    "print('')\n",
    "dicionario['notas'][int(np.where(mat2)[0])] = 9.5\n"
   ]
  },
  {
   "cell_type": "code",
   "execution_count": 78,
   "id": "9d750821-ceb3-41a8-ac60-54068d654bce",
   "metadata": {},
   "outputs": [
    {
     "name": "stdout",
     "output_type": "stream",
     "text": [
      "[0.8029351  0.31484641 0.03448188 0.49980082 0.76790545 0.54343858\n",
      " 0.98364675 0.39901266 0.24002248 0.6890463  0.28415221 0.82928814\n",
      " 0.42367883 0.5698198  0.87849118 0.80047056 0.52816394 0.04383906\n",
      " 0.7329399  0.99687761 0.37136044 0.27400464 0.27726255 0.95538766\n",
      " 0.33884154 0.05898302 0.04782824 0.58426663 0.13191231 0.81559451\n",
      " 0.55245829 0.93327557 0.42245223 0.80344617 0.9405574  0.85884112\n",
      " 0.18427739 0.49238402 0.57938229 0.50775889 0.85929289 0.82572949\n",
      " 0.82549106 0.27866545 0.70568134 0.24252206 0.65970699 0.67442222\n",
      " 0.38699938 0.20391709 0.04785576 0.85443726 0.62764755 0.74578507\n",
      " 0.38070449 0.38107432 0.00463624 0.28611139 0.37394575 0.954902\n",
      " 0.18033326 0.31299186 0.05309203 0.89455163 0.47148265 0.79371463\n",
      " 0.1511887  0.89518195 0.69506454 0.0308216  0.23028531 0.29946628\n",
      " 0.1239128  0.09701978 0.45602144 0.94296506 0.50320861 0.60660013\n",
      " 0.69485598 0.65940368 0.24221324 0.51247014 0.53191186 0.98917487\n",
      " 0.74071636 0.29722771 0.30076165 0.51426336 0.73225102 0.98728029\n",
      " 0.04900428 0.71694316 0.69344809 0.58318355 0.57580747 0.94083693\n",
      " 0.39798709 0.11125315 0.23805602 0.72634762]\n",
      "\n",
      "[0.8029351  0.31484641 0.03448188 0.49980082 0.76790545 0.54343858\n",
      " 0.98364675 0.39901266 0.24002248 0.6890463  0.28415221 0.82928814\n",
      " 0.42367883 0.5698198  0.87849118 0.80047056 0.52816394 0.04383906\n",
      " 0.7329399  0.99687761 0.37136044 0.27400464 0.27726255 0.95538766\n",
      " 0.33884154 0.05898302 0.04782824 0.58426663 0.13191231 0.81559451\n",
      " 0.55245829 0.93327557 0.42245223 0.80344617 0.9405574  0.85884112\n",
      " 0.18427739 0.49238402 0.57938229 0.50775889 0.85929289 0.82572949\n",
      " 0.82549106 0.27866545 0.70568134 0.24252206 0.65970699 0.67442222\n",
      " 0.38699938 0.20391709 0.04785576 0.85443726 0.62764755 0.74578507\n",
      " 0.38070449 0.38107432 0.00463624 0.28611139 0.37394575 0.954902\n",
      " 0.18033326 0.31299186 0.05309203 0.89455163 0.47148265 0.79371463\n",
      " 0.1511887  0.89518195 0.69506454 0.0308216  0.23028531 0.29946628\n",
      " 0.1239128  0.09701978 0.45602144 0.94296506 0.50320861 0.60660013\n",
      " 0.69485598 0.65940368 0.24221324 0.51247014 0.53191186 0.98917487\n",
      " 0.74071636 0.29722771 0.30076165 0.51426336 0.73225102 0.98728029\n",
      " 0.04900428 0.71694316 0.69344809 0.58318355 0.57580747 0.94083693\n",
      " 0.39798709 0.11125315 0.23805602 0.72634762]\n"
     ]
    }
   ],
   "source": [
    "# Matriz numpy\n",
    "\n",
    "vec = np.random.rand(100)\n",
    "print(vec)\n",
    "\n",
    "print('')\n",
    "      \n",
    "vec2 = np.sin(vec)\n",
    "print(vec)\n",
    "\n",
    "#associar datas a esta matriz\n"
   ]
  },
  {
   "cell_type": "code",
   "execution_count": 82,
   "id": "30fa96a1-6547-4c79-8088-66c9bca21be4",
   "metadata": {},
   "outputs": [
    {
     "ename": "SyntaxError",
     "evalue": "invalid syntax (1689731919.py, line 12)",
     "output_type": "error",
     "traceback": [
      "\u001b[1;36m  Cell \u001b[1;32mIn[82], line 12\u001b[1;36m\u001b[0m\n\u001b[1;33m    print (vec.shape[0]):\u001b[0m\n\u001b[1;37m                        ^\u001b[0m\n\u001b[1;31mSyntaxError\u001b[0m\u001b[1;31m:\u001b[0m invalid syntax\n"
     ]
    }
   ],
   "source": [
    "#Datetime\n",
    "\n",
    "from datetime import detetime, timedelt\n",
    "\n",
    "#Data inicial\n",
    "start_date = datetime(2024,1, 1) #ano, mês, dia\n",
    "\n",
    "#lista para armazenar as tatas\n",
    "dete_vector =[]\n",
    "\n",
    "#Gerar datas para uma semana\n",
    "print (vec.shape[0]):\n",
    "    date_vector.append(start_date + timedelta(days=1))\n",
    "\n",
    "#Exibir as datas\n",
    "for date in date_vector:\n",
    "    print(date.strftime('%Y=%m-%d')"
   ]
  },
  {
   "cell_type": "raw",
   "id": "30772482-f79c-44b9-bf2b-1e372683b6e3",
   "metadata": {},
   "source": []
  },
  {
   "cell_type": "markdown",
   "id": "9dbd21d6-97bd-42e8-afdc-cd3b13e43c48",
   "metadata": {},
   "source": [
    "import pandas as pd\n",
    "df = dp.DataFrame()\n",
    "df['datas'] = date_vactor\n",
    "df['vec'] = vec\n",
    "df['vec2'] = vec2\n",
    "print(df)\n",
    "\n",
    "#salvando a pasta\n",
    "pasta = r\"C:\\Users\\Marilia\\Documents\\ENS5173_202401\\ENS5173_202401\\tabelas\"\n",
    "df.to_csv(pasta + '/planilha.csv')"
   ]
  }
 ],
 "metadata": {
  "kernelspec": {
   "display_name": "Python 3 (ipykernel)",
   "language": "python",
   "name": "python3"
  },
  "language_info": {
   "codemirror_mode": {
    "name": "ipython",
    "version": 3
   },
   "file_extension": ".py",
   "mimetype": "text/x-python",
   "name": "python",
   "nbconvert_exporter": "python",
   "pygments_lexer": "ipython3",
   "version": "3.11.8"
  }
 },
 "nbformat": 4,
 "nbformat_minor": 5
}
