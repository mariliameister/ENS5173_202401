{
 "cells": [
  {
   "cell_type": "markdown",
   "id": "0a2b467f-da9d-4681-aa1e-d139e4125951",
   "metadata": {},
   "source": [
    "# ATIVIDADE_03_PARTE_01\n",
    "Alunas: Marília Meister (20250396) e Maria Natalia da Silva (17207797)\n",
    "\n",
    "Nesta atividade vocês precisarão implementar o modelo gaussiano no Python. Vocês devem realizar os seguintes tópicos:\n",
    "* Item01_Implementar uma função para determinar a classe de estabilidade de Pasquil para diferentes condições atmosféricas.\n",
    "\n",
    "- Item02_Implementar a função de estimativa de coefiente de dispersão (sigmaYZ) para todas as classes de estabilidade.\n",
    "\n",
    "- Item03_Implementar a função de estimativa de sobrelevação da pluma utilizando os métodos de Davidson-Bryant, Holland e Briggs (quem fizer o método de Briggs ganha um ponto a mais). Deve ser considerado o efeito Tip-Downwash\n",
    "\n",
    "- Item04_Implementar a função do modelo gaussiano\n",
    "\n",
    "- Item05_Realizar simulações com o script criado, utilizando diferentes classes de estabilidade, velocidades do vento, alturas de chaminé. Considere a taxa de emissão que você estimou na primeira atividade. Encontre a altura de chaminé necessária para que as concentrações não violem os padrões da Resolução CONAMA 491.\n",
    "\n",
    "- Item06_Faça figuras e discuta os resultados."
   ]
  },
  {
   "cell_type": "markdown",
   "id": "1152013c-185f-436c-8588-ee4040267420",
   "metadata": {},
   "source": [
    "## Item01_Implementar uma função para determinar a classe de estabilidade de Pasquil para diferentes condições atmosféricas.\n",
    "Neste item, foi implementada uma função para determinar a classe de estabilidade de Pasquil utilizando a planilha gerada na atividade anterior do EZ-AERMOD. Os dados contidos nela são relevantes para essa classificação. Dessa maneira, para melhorar a avalição dos dados de 2023, propomos os seguintes passos:\n",
    " * 1° Selecionar um dia aleatório da tabela. Considerar, nessa seleção, as\n",
    "   colunas de cobertura de nuvens, velocidade do vento e fluxo de calor sensível.\n",
    " * 2° Com auxílio de pesquisa, gerar a classificação de Pasquil avaliando os dados selecionados\n",
    " * 3° Apresentar os resultados."
   ]
  },
  {
   "cell_type": "code",
   "execution_count": 138,
   "id": "8c15b027-3e9c-4af5-a317-0cc6e0068954",
   "metadata": {},
   "outputs": [
    {
     "data": {
      "text/html": [
       "<div>\n",
       "<style scoped>\n",
       "    .dataframe tbody tr th:only-of-type {\n",
       "        vertical-align: middle;\n",
       "    }\n",
       "\n",
       "    .dataframe tbody tr th {\n",
       "        vertical-align: top;\n",
       "    }\n",
       "\n",
       "    .dataframe thead th {\n",
       "        text-align: right;\n",
       "    }\n",
       "</style>\n",
       "<table border=\"1\" class=\"dataframe\">\n",
       "  <thead>\n",
       "    <tr style=\"text-align: right;\">\n",
       "      <th></th>\n",
       "      <th>ano</th>\n",
       "      <th>mês</th>\n",
       "      <th>dia</th>\n",
       "      <th>cob_nuvens</th>\n",
       "      <th>velo_vento[m/s]</th>\n",
       "      <th>calor_sens [W/m2]</th>\n",
       "      <th>classe_pasquil</th>\n",
       "    </tr>\n",
       "  </thead>\n",
       "  <tbody>\n",
       "    <tr>\n",
       "      <th>285</th>\n",
       "      <td>23</td>\n",
       "      <td>10</td>\n",
       "      <td>13</td>\n",
       "      <td>7.833333</td>\n",
       "      <td>5.058333</td>\n",
       "      <td>21.15</td>\n",
       "      <td>F</td>\n",
       "    </tr>\n",
       "  </tbody>\n",
       "</table>\n",
       "</div>"
      ],
      "text/plain": [
       "     ano  mês  dia  cob_nuvens  velo_vento[m/s]  calor_sens [W/m2]  \\\n",
       "285   23   10   13    7.833333         5.058333              21.15   \n",
       "\n",
       "    classe_pasquil  \n",
       "285              F  "
      ]
     },
     "metadata": {},
     "output_type": "display_data"
    }
   ],
   "source": [
    "#-----------------------------------------------------1° Selecionar um dia de cada mês do ano de 2023 da tabela do EZ-AERMOD.-----------------------------------------------------\n",
    "import pandas as pd\n",
    "import numpy as np\n",
    "\n",
    "# Carregar a tabela do seu computador\n",
    "caminho_arquivo = r'C:\\Users\\Marilia\\Documents\\ENS5173_202401\\ENS5173_202401\\inputs\\ez_aermod_marilia\\meteo_sfc_mod2.csv'\n",
    "\n",
    "# Abrir o arquivo CSV como um DataFrame do pandas, especificando o encoding\n",
    "data = pd.read_csv(caminho_arquivo, encoding='latin1')\n",
    "\n",
    "# Selecionar apenas colunas numéricas para calcular a média diária\n",
    "data_numeric = data.select_dtypes(include=[np.number])\n",
    "\n",
    "# Incluir a coluna 'dia' no DataFrame data_numeric\n",
    "data_numeric[['ano', 'mês', 'dia']] = data[['ano', 'mês', 'dia']]\n",
    "\n",
    "# Calcular a média diária dos valores para cada coluna numérica\n",
    "data_diaria = data_numeric.groupby(['ano', 'mês', 'dia']).mean().reset_index()\n",
    "\n",
    "# Selecionar um dia aleatório de todo o ano com as colunas desejadas\n",
    "dia_aleatorio = data_diaria.sample(1)[['ano', 'mês', 'dia', 'cob_nuvens', 'velo_vento[m/s]', 'calor_sens [W/m2]']]\n",
    "\n",
    "#----------------------------------------------2° Gerar a classificação de Pasquil avaliando os dados selecionados-----------------------------------------------------------------\n",
    "def pasquil (data):\n",
    "\n",
    "    radiacao = data['calor_sens [W/m2]'] \n",
    "    vel_vento = data['velo_vento[m/s]']\n",
    "    cob_nuvens = data['cob_nuvens']\n",
    "    hora = data['hora']\n",
    "\n",
    "    print (hora)\n",
    "    \n",
    "    if 7 <= hora <= 18: #Durante o dia\n",
    "\n",
    "        if radiacao > 700:\n",
    "            if vel_vento < 2:\n",
    "                return 'A'\n",
    "            elif 2 <= vel_vento < 3:\n",
    "                return 'A - B'\n",
    "            elif 3 <= vel_vento < 5:\n",
    "                return 'B'\n",
    "            elif 5 <= vel_vento < 6:\n",
    "                return 'C - D'\n",
    "            else:\n",
    "                return 'D'\n",
    "        elif 350 < radiacao <= 700:\n",
    "            if velocidade_vento < 2:\n",
    "                return 'A - B'\n",
    "            elif 2 <= vel_vento < 3:\n",
    "                return 'B'\n",
    "            elif 3 <= vel_vento < 5:\n",
    "                return 'B - C'\n",
    "            elif 5 <= vel_vento < 6:\n",
    "                return 'C - D'\n",
    "            else:\n",
    "                return 'D'\n",
    "        elif radiacao <= 350:\n",
    "            if vel_vento < 2:\n",
    "                return 'B'\n",
    "            elif 2 <= vel_vento < 3:\n",
    "                return 'B - C'\n",
    "            elif 3 <= vel_vento < 5:\n",
    "                return 'C'\n",
    "            elif 5 <= vel_vento < 6:\n",
    "                return 'C - D'\n",
    "            else:\n",
    "                return 'D'\n",
    "    \n",
    "    elif 7 > hora > 18: #Durante o dia\n",
    "        if cob_nuvens is None:\n",
    "            return 'Parâmetro de cobertura de nuvens é necessário durante a noite.'\n",
    "    \n",
    "        if cob_nuvens >= 4/8:\n",
    "            if vel_vento < 2:\n",
    "                return 'E'\n",
    "            elif 2 <= vel_vento < 3:\n",
    "                return 'E'\n",
    "            elif 3 <= vel_vento < 5:\n",
    "                return 'D'\n",
    "            elif 5 <= vel_vento < 6:\n",
    "                return 'D'\n",
    "            else:\n",
    "                return 'D'\n",
    "        elif cob_nuvens < 3/8:\n",
    "            if vel_vento < 2:\n",
    "                return 'F'\n",
    "            elif 2 <= vel_vento < 3:\n",
    "                return 'E'\n",
    "            elif 3 <= vel_vento < 5:\n",
    "                return 'D'\n",
    "            elif 5 <= vel_vento < 6:\n",
    "                return 'D'\n",
    "            else:\n",
    "                return 'D'\n",
    "    \n",
    "    return 'Parâmetros inválidos. Verifique os valores fornecidos.'    \n",
    "#-------------------------------------------------------------3° Apresentar a tabela de resultados.--------------------------------------------------------------------------------\n",
    "\n",
    "# Aplicar a função para determinar a classe de estabilidade de Pasquil para o dia selecionado\n",
    "dia_aleatorio['classe_pasquil'] = dia_aleatorio.apply(determinar_classe_estabilidade, axis=1)\n",
    "\n",
    "# Exibir o dia aleatório selecionado com a classe de estabilidade de Pasquil\n",
    "display(dia_aleatorio)"
   ]
  },
  {
   "cell_type": "markdown",
   "id": "727e4488-bbde-48e0-a542-31f1bc55c7f5",
   "metadata": {},
   "source": [
    "## Item02_Implementar a função de estimativa de coefiente de dispersão (sigmaYZ) para todas as classes de estabilidade.\n",
    "Neste item foi criada uma função para estimar cada classe de estabilidade de Pasquil. As fórmulas de sigmaY e sigmaZ foram\n",
    "retiradas da tabela apresentada em aula.  "
   ]
  },
  {
   "cell_type": "code",
   "execution_count": 140,
   "id": "b36ca3ba-96aa-4581-aee2-27da94726fc1",
   "metadata": {},
   "outputs": [],
   "source": [
    "# Criando função da estimativa da dispersão lateral e vertical da pluma\n",
    "def sigmaXY(x, classe, urbOrRural):\n",
    "    \n",
    "    if urbOrRural == 'urbano':\n",
    "        if classe in ['A', 'B']:\n",
    "            sigmaY = 0.32 * x * (1 + 0.0004 * x) ** (-0.5)\n",
    "            sigmaZ = 0.24 * x * (1 + 0.001 * x) ** (0.5)\n",
    "        elif classe == 'C':\n",
    "            sigmaY = 0.22 * x * (1 + 0.0004 * x) ** (-0.5)\n",
    "            sigmaZ = 0.20 * x\n",
    "        elif classe == 'D':\n",
    "            sigmaY = 0.16 * x * (1 + 0.0004 * x) ** (-0.5)\n",
    "            sigmaZ = 0.14 * x * (1 + 0.0003 * x) ** (-0.5)\n",
    "        elif classe == 'E':\n",
    "            sigmaY = 0.11 * x * (1 + 0.0001 * x) ** (-0.5)\n",
    "            sigmaZ = 0.08 * x * (1 + 0.0015 * x) ** (-0.5)\n",
    "        elif classe == 'F':\n",
    "            sigmaY = 0.11 * x * (1 + 0.0001 * x) ** (-0.5)\n",
    "            sigmaZ = 0.08 * x * (1 + 0.0015 * x) ** (-0.5)\n",
    "        else:\n",
    "            print('Classe de estabilidade errada')\n",
    "    elif urbOrRural == 'rural':\n",
    "        if classe == 'A':\n",
    "            sigmaY = 0.22 * x * (1 + 0.0001 * x) ** (-0.5)\n",
    "            sigmaZ = 0.20 * x\n",
    "        elif classe == 'B':\n",
    "            sigmaY = 0.16 * x * (1 + 0.0001 * x) ** (-0.5)\n",
    "            sigmaZ = 0.12 * x\n",
    "        elif classe == 'C':\n",
    "            sigmaY = 0.11 * x * (1 + 0.0001 * x) ** (-0.5)\n",
    "            sigmaZ = 0.08 * x * (1 + 0.0002 * x) ** (-0.5)\n",
    "        elif classe == 'D':\n",
    "            sigmaY = 0.08 * x * (1 + 0.0001 * x) ** (-0.5)\n",
    "            sigmaZ = 0.06 * x * (1 + 0.0015 * x) ** (-0.5)\n",
    "        elif classe == 'E':\n",
    "            sigmaY = 0.06 * x * (1 + 0.0001 * x) ** (-0.5)\n",
    "            sigmaZ = 0.03 * x * (1 + 0.0003 * x) ** (-1)\n",
    "        elif classe == 'F':\n",
    "            sigmaY = 0.04 * x * (1 + 0.0001 * x) ** (-0.5)\n",
    "            sigmaZ = 0.016 * x * (1 + 0.0003 * x) ** (-1)\n",
    "        else:\n",
    "            print('Classe de estabilidade errada. Fique ligado')\n",
    "    else:\n",
    "        print('Tipo de região errada. Use \"urbano\" ou \"rural\".')\n",
    "    \n",
    "    return sigmaY, sigmaZ"
   ]
  },
  {
   "cell_type": "markdown",
   "id": "8014d7a9-c421-46d3-aa24-eaac318351c3",
   "metadata": {},
   "source": [
    "## Item03_Implementar a função de estimativa de sobrelevação da pluma utilizando os métodos de Davidson-Bryant e Holland. Deve ser considerado o efeito Tip-Downwash"
   ]
  },
  {
   "cell_type": "code",
   "execution_count": 141,
   "id": "20cea367-a904-4fb7-9a2a-faa1d6b5f0d7",
   "metadata": {},
   "outputs": [],
   "source": [
    "# Função para estimar o deltaH com base na equação de Davidson-Bryant\n",
    "def deltaHdavidsonBryant(d, vs, u, Ts, Tamb, hg):\n",
    "    if vs > 1.5 * u:\n",
    "        deltaH = (d * (vs / u)**(1.4)) * (1 + (Ts - Tamb) / Ts)\n",
    "        hef = hg + deltaH\n",
    "        print('Sobrelevação da pluma (deltaH): ' + str(deltaH))\n",
    "        print('A pluma subiu')\n",
    "    else:\n",
    "        hef = hg + 2 * d * ((vs / u) - 1.5)\n",
    "        print('A pluma caiu')\n",
    "   \n",
    "    return hef\n",
    "\n",
    "# Função para estimar o deltaH com base na equação de Holland\n",
    "def deltaHholland(d, vs, u, Ts, Tamb, p, estabilidade):\n",
    "    deltaH = (d * vs / u) * (1.5 + 2.68 * 10**-3 * p * (Tamb / Ts) * d)\n",
    "    \n",
    "    # Ajuste para condições de estabilidade\n",
    "    if estabilidade == 'instável':\n",
    "        deltaH *= 1.2  # Aumento de 20%\n",
    "    elif estabilidade == 'estável':\n",
    "        deltaH *= 0.8  # Redução de 20%\n",
    "    \n",
    "    return deltaH\n",
    "\n",
    "# Função principal para estimar a sobrelevação da pluma\n",
    "def estimar_sobrelevacao_pluma(d, vs, u, Ts, Tamb, p, estabilidade, metodo, hg, tip_downwash=False):\n",
    "    if metodo == 'Davidson-Bryant':\n",
    "        hef = deltaHdavidsonBryant(d, vs, u, Ts, Tamb, hg)\n",
    "    elif metodo == 'Holland':\n",
    "        deltaH = deltaHholland(d, vs, u, Ts, Tamb, p, estabilidade)\n",
    "        if tip_downwash:\n",
    "            # Considerando uma redução típica de 10% devido ao efeito Tip-Downwash\n",
    "            deltaH *= 0.9\n",
    "        hef = hg + deltaH\n",
    "    else:\n",
    "        raise ValueError(\"Método não reconhecido. Use 'Davidson-Bryant' ou 'Holland'.\")\n",
    "    \n",
    "    return hef"
   ]
  },
  {
   "cell_type": "markdown",
   "id": "89a86934-1fa5-4b09-aceb-e82d78b38f73",
   "metadata": {},
   "source": [
    "## Item04_Implementar a função do modelo gaussiano"
   ]
  },
  {
   "cell_type": "code",
   "execution_count": 142,
   "id": "26718412-6111-42ac-a28a-2c23e6aafe60",
   "metadata": {},
   "outputs": [],
   "source": [
    "# Criando uma função do modelo gaussiano\n",
    "import numpy as np\n",
    "def modeloGaussiano(qs,sigmaY,sigmaZ,u,y,z,H):\n",
    "    termo1 = qs/(2*np.pi*sigmaY*sigmaZ*u)\n",
    "    termo2 = np.exp((-y**2)/(2*sigmaY**2))\n",
    "    termo3 = np.exp((-(z-H)**2)/(2*sigmaZ**2)) + np.exp((-(z+H)**2)/(2*sigmaZ**2))\n",
    "    conc = termo1*termo2*termo3\n",
    "    conc = conc*10**6\n",
    "    return conc"
   ]
  },
  {
   "cell_type": "markdown",
   "id": "29d0e1c7-e785-4e7d-9a8d-ecb42fbba396",
   "metadata": {},
   "source": [
    "## Item05_Realizar simulações com o script criado\n",
    "Neste item é apresentado: \n",
    "* 01 _ Classe de estabilidade encontrada no primeiro item. Posteriormente esse resultado é usado no parametro \"classe\" para fazer \n",
    "os calculos de sigmaY e sigmaZ, pela função definida no segundo anteriormente no presente código. [testar novas classes como pede o enunciado]\n",
    "* 02 _ A sobrelevação está sendo calculada pelo método de Davidson-Bryant. Aqui posso testar novos valores dos seguintes parâmetros como pedido no enunciado:\n",
    "   - Velocidade do vento (u);\n",
    "   - Altura da chaminé (hg);\n",
    "* 03_ Concentração pontual usado a equação Gaussina. Aqui devo usar os valores encontrados na atividade 1 de emissões, nesse caso:\n",
    "   - PM = 71,48 (g/s)\n",
    "   - SO2 = 16010.53 (g/s)\n",
    "   - NOX = 41.37 (g/s)"
   ]
  },
  {
   "cell_type": "code",
   "execution_count": 143,
   "id": "46e87620-7f04-4934-92d1-6a6b98f9b6a9",
   "metadata": {},
   "outputs": [
    {
     "name": "stdout",
     "output_type": "stream",
     "text": [
      "Classe de estabilidade de Pasquill: F\n",
      "sigmaY: 104.88088481701514 m\n",
      "sigmaZ: 50.59644256269407 m\n"
     ]
    }
   ],
   "source": [
    "# 01 Exibindo a classificação encontrada para o dia aletório encontrado no início do código e calculando os coeficientes de dispersão \n",
    "\n",
    "print(f\"Classe de estabilidade de Pasquill: {dia_aleatorio['classe_pasquil'].values[0]}\")\n",
    "\n",
    "# Definir os parâmetros de entrada\n",
    "x = 1000  # Distância da fonte de emissão em metros\n",
    "classe = 'F'  # Classe de estabilidade da atmosfera\n",
    "urbOrRural = 'urbano'  # Tipo de região ('urbano' ou 'rural') Para o nosso caso, notamos no trabalho 2 \n",
    "                       # que a empresa Portobello está inserida em região Urbana\n",
    "\n",
    "# Chamar a função para calcular sigmaY e sigmaZ\n",
    "sigmaY, sigmaZ = sigmaXY(x, classe, urbOrRural)\n",
    "\n",
    "# Exibir os resultados\n",
    "print(f'sigmaY: {sigmaY} m')\n",
    "print(f'sigmaZ: {sigmaZ} m')"
   ]
  },
  {
   "cell_type": "code",
   "execution_count": 144,
   "id": "b3b82152-66fd-40ec-9f46-0c0af3c9b1ff",
   "metadata": {},
   "outputs": [
    {
     "name": "stdout",
     "output_type": "stream",
     "text": [
      "Sobrelevação da pluma (deltaH): 3.77925655093708\n",
      "A pluma subiu\n",
      "A altura efetiva da chaminé (H): 153.77925655093708 [m]\n"
     ]
    }
   ],
   "source": [
    "# 02 Apresentando a sobrelevação da pluma considerando o método Davidson-Bryant -------------------------------------------------\n",
    "\n",
    "#Dados de entrada\n",
    "d = 1.0  # Exemplo de valor [diâmetro interno da chaminé (m)]\n",
    "vs = 5.05 # Foi apresentado no início do código [velocidade do efluente na saída da chaminé (m/s)]\n",
    "u = 2.0  # Exemplo de valor [velocidade do vento a 10 metros (m/s)]\n",
    "Ts = 300.0  # Exemplo de valor [temperatura do gás na saída da chaminé (K)]\n",
    "Tamb = 290.0  # Exemplo de valor [temperatura ambiente (K)]\n",
    "p = 1009  # valor que aparece na tabela do EZ-AERMOD [pressão ATM em mb] (habilitar se estiver usando o método Holland)\n",
    "estabilidade = 'instavel'  # Exemplo de condição de estabilidade (habilitar se estiver usando o método Holland)\n",
    "metodo = 'Davidson-Bryant'  # Escolha entre 'Davidson-Bryant' e 'Holland'\n",
    "tip_downwash = True  # Considerar o efeito Tip-Downwash\n",
    "hg = 150 # Exemplo de valor [altura da chaminé (m)]\n",
    "\n",
    "hef = estimar_sobrelevacao_pluma(d, vs, u, Ts, Tamb,p, estabilidade, metodo, hg, tip_downwash)\n",
    "print(f'A altura efetiva da chaminé (H): {hef}', '[m]')"
   ]
  },
  {
   "cell_type": "code",
   "execution_count": 145,
   "id": "b2fb3737-9d49-4ce9-9924-1b01f139def9",
   "metadata": {},
   "outputs": [
    {
     "name": "stdout",
     "output_type": "stream",
     "text": [
      "Polunente avaliado é o PM\n",
      "A concentração estimada é = 21.13883761908531 [μg/m³]\n"
     ]
    }
   ],
   "source": [
    "# 03_Concentração pontual usado a equação Gaussina  -----------------------------------------------------\n",
    "\n",
    "# Utilizando a função do modelo gaussiano\n",
    "qs = 71.48 # g/s usar as emissões calculadas na primeira atividade [PM = 71,48, SO2 = 16010.53, NOX = 41.37] \n",
    "sigmaY = 104.88 # m [coeficiente de dispersão] (usar o sigmaY calculado no item 01)\n",
    "sigmaZ = 50.59 # m [coeficiente de dispersão] (usar o sigmaZ calculado no item 01)\n",
    "u = 2 # m/s [velocidade média do vento] (usar o mesmo valor escolhido no item 02)\n",
    "y = 0 # estimando na direção do vento [dist. horizontal do eixo central da pluma]\n",
    "z = 1.5  # altura do nariz [dist. acima do solo]\n",
    "H = 153.83 # m usando o valor estimado no calculo [altura efetiva da chaminé] \n",
    "\n",
    "# Chamando a função do modelo gaussiano\n",
    "conc = modeloGaussiano(qs,sigmaY,sigmaZ,u,y,z,H)\n",
    "\n",
    "print(\"Polunente avaliado é o PM\")\n",
    "print(\"A concentração estimada é = \" +str(conc) + ' [μg/m³]')"
   ]
  },
  {
   "cell_type": "markdown",
   "id": "4a14fa4d-25ca-4348-83e3-6c51ad9d4cfb",
   "metadata": {},
   "source": [
    "## Item06_Faça figuras e discuta os resultados."
   ]
  },
  {
   "cell_type": "code",
   "execution_count": 147,
   "id": "3ba61578-2c4b-49ae-a449-3282b3f33eb8",
   "metadata": {},
   "outputs": [
    {
     "data": {
      "image/png": "[encoded data removed]",
      "text/plain": [
       "<Figure size 640x480 with 1 Axes>"
      ]
     },
     "metadata": {},
     "output_type": "display_data"
    },
    {
     "data": {
      "image/png": "[encoded data removed]",
      "text/plain": [
       "<Figure size 640x480 with 1 Axes>"
      ]
     },
     "metadata": {},
     "output_type": "display_data"
    }
   ],
   "source": [
    "# Criando domínio de modelagem \n",
    "x = np.linspace(-100,10000,500)\n",
    "#print(x)\n",
    "y = np.linspace(-10000,10000,500)\n",
    "\n",
    "# Criando matrizes de x e y\n",
    "xx,yy = np.meshgrid(x,y)\n",
    "#print(xx.shape)\n",
    "\n",
    "# Estimando o coeficiente de dispersão lateral e vertical\n",
    "sigmaY,sigmaZ = sigmaXY(xx,classe,urbOrRural)\n",
    "#print(sigmaY)\n",
    "\n",
    "# Utilizando a matriz de yy como input na função do modelo gaussiano\n",
    "conc = modeloGaussiano(qs,sigmaY,sigmaZ,u,yy,z,hef)\n",
    "\n",
    "# Visualização dos resultados no espaço\n",
    "import matplotlib.pyplot as plt\n",
    "from matplotlib.colors import LogNorm\n",
    "fig,ax = plt.subplots()\n",
    "ax.contourf(xx,yy,conc+0.1,norm = LogNorm())\n",
    "\n",
    "plt.xlabel('Distância [m]')\n",
    "plt.ylabel('Desvio lateral [m]')\n",
    "plt.title('Pluma de dispersão de poluentes')\n",
    "plt.show()\n",
    "\n",
    "# Corte em y - sobre o eixo x\n",
    "fig,ax = plt.subplots()\n",
    "ax.plot(x,conc[250,:])\n",
    "plt.xlabel('Distância [m]')\n",
    "plt.ylabel('Concentração [$\\mu$g/m³]')\n",
    "plt.title('Dispersão de poluentes ao longo da distância')\n",
    "plt.show()"
   ]
  },
  {
   "cell_type": "markdown",
   "id": "80ee89bf-188d-4576-80cb-42f5090f7018",
   "metadata": {},
   "source": [
    "## Os testes foram realizados e estão apresentados em planilha separada, enviada junto com o arquivo deste código no moodle!!\n",
    "Lembrando que será melhor detalhado no relatório final junto com a segunda etapa da presente atividade "
   ]
  },
  {
   "cell_type": "code",
   "execution_count": null,
   "id": "2af73b8c-1d94-445e-964a-6db31366ad58",
   "metadata": {},
   "outputs": [],
   "source": []
  }
 ],
 "metadata": {
  "kernelspec": {
   "display_name": "Python 3 (ipykernel)",
   "language": "python",
   "name": "python3"
  },
  "language_info": {
   "codemirror_mode": {
    "name": "ipython",
    "version": 3
   },
   "file_extension": ".py",
   "mimetype": "text/x-python",
   "name": "python",
   "nbconvert_exporter": "python",
   "pygments_lexer": "ipython3",
   "version": "3.11.8"
  }
 },
 "nbformat": 4,
 "nbformat_minor": 5
}
