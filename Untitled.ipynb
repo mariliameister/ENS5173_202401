{
 "cells": [
  {
   "cell_type": "markdown",
   "id": "e67f4f2a-3a46-4269-b445-fea76d4c48f8",
   "metadata": {},
   "source": [
    "# Aula 04 - revisando comandos Python"
   ]
  },
  {
   "cell_type": "code",
   "execution_count": 4,
   "id": "825339cf-233a-428b-b444-4eac6f0df38a",
   "metadata": {},
   "outputs": [
    {
     "name": "stdout",
     "output_type": "stream",
     "text": [
      "[0, 'texto', 2.5]\n",
      "variável:texto\n"
     ]
    }
   ],
   "source": [
    "# criando uma lista em python\n",
    "list = [0, 'texto', 2.5]\n",
    "print (list)\n",
    "#Dessa maneira é possível fazer a adição de duas strings, sendo que list [1] é o segundo indice do vetor list\n",
    "print ('variável:' + list[1])\n",
    "\n",
    "#Adição do primeiro indice da variável list (list[0]) - Lembrar que a indexação no python inicia em 0\n",
    "print (list[0]+ 1)\n",
    "\n"
   ]
  },
  {
   "cell_type": "code",
   "execution_count": null,
   "id": "8c18f29b-4552-4652-9d5a-fb4ee23051d7",
   "metadata": {},
   "outputs": [],
   "source": [
    "# Criando uma matriz numpy\n",
    "import numpy as np\n",
    "\n",
    "a = np.zeros((5,5))\n",
    "print(a)\n"
   ]
  },
  {
   "cell_type": "code",
   "execution_count": null,
   "id": "9f483d0e-9c7a-4417-b553-d978185890c4",
   "metadata": {},
   "outputs": [],
   "source": []
  },
  {
   "cell_type": "code",
   "execution_count": null,
   "id": "b8471378-c905-41e1-9cc8-60d4a7a6b113",
   "metadata": {},
   "outputs": [],
   "source": []
  }
 ],
 "metadata": {
  "kernelspec": {
   "display_name": "Python 3 (ipykernel)",
   "language": "python",
   "name": "python3"
  },
  "language_info": {
   "codemirror_mode": {
    "name": "ipython",
    "version": 3
   },
   "file_extension": ".py",
   "mimetype": "text/x-python",
   "name": "python",
   "nbconvert_exporter": "python",
   "pygments_lexer": "ipython3",
   "version": "3.11.8"
  }
 },
 "nbformat": 4,
 "nbformat_minor": 5
}
