{
 "cells": [
  {
   "cell_type": "markdown",
   "id": "66ee18d8-b0a6-4771-a392-14e3ee43cfce",
   "metadata": {},
   "source": [
    "# Atividade01_Etapa03\n",
    "\n",
    "Gerar números aleatórios que representem a atividade industrial (ex: toneladas de cimento produzido). Utilize alguma indústria do estado para basear seus códigos. \n",
    "\n",
    "Controle de Poluição Atmosférica | Professor: Leonardo Hoinaski | Aluna: Marilia Meister"
   ]
  },
  {
   "cell_type": "markdown",
   "id": "43df3b95-a415-4cb1-8f33-ab1b8b4723b9",
   "metadata": {},
   "source": [
    "## Pesquisa:\n",
    "Após uma breve pesquisa no site do Sindicato Nacional da Indústria do Cimento - SNIC, foi possível observar a produção Regional de 2022 para a região sul do Brasil. Os valores reais podem ser consultados no link: <https://snic.org.br/assets/pdf/numeros/1691430860.pdf> "
   ]
  },
  {
   "cell_type": "markdown",
   "id": "4739b634-cd0b-4e94-b80a-bf829620f16f",
   "metadata": {},
   "source": [
    "## Explicação do objetivo inical do código: \n",
    "\n",
    "Apresentar uma tabela com com valores ficticios de produção de cimento na região sul do Brasil, apresentando a produção mensal durante todo ano de \"2024\". Entretanto, para não gerar valores muito fora da realidade, buscou-se basear a geração de valores, fictícios, no intervalo dos valores máximo e mínimo da tabela fornecida pelo SNIC, mencionada acima. "
   ]
  },
  {
   "cell_type": "markdown",
   "id": "932c94fe-0eec-460a-a9a3-382657765256",
   "metadata": {},
   "source": [
    "## Código:"
   ]
  },
  {
   "cell_type": "code",
   "execution_count": 76,
   "id": "245e32be-936f-4d34-83c4-72762b307b46",
   "metadata": {},
   "outputs": [
    {
     "name": "stdout",
     "output_type": "stream",
     "text": [
      "[847493, 894887, 935650, 933391, 987705, 875412, 1062739, 998597, 928816, 916307, 947721, 851183]\n"
     ]
    }
   ],
   "source": [
    "## Produção de cimento de janeiro a dezembro de 2022. Fonte: SNCI\n",
    "\n",
    "producao_mesal= [847493, 894887, 935650, 933391, 987705, 875412, 1062739, 998597, 928816, 916307, 947721, 851183]\n",
    "print(producao_mesal)"
   ]
  },
  {
   "cell_type": "code",
   "execution_count": 78,
   "id": "488d5920-767b-428d-a4fa-d4b4de67de15",
   "metadata": {},
   "outputs": [
    {
     "name": "stdout",
     "output_type": "stream",
     "text": [
      "O valor máximo da producao_mesal é: 1062739\n",
      "O valor máximo da producao_mesal é: 847493\n"
     ]
    }
   ],
   "source": [
    "# Encontrando os valores máximo e mínimo de toneladas de cimento produzidas no ano de 2022, na região sul do Brasil.\n",
    "\n",
    "maximo = max(producao_mesal)\n",
    "minimo = min(producao_mesal)\n",
    "print(f\"O valor máximo da producao_mesal é: {maximo}\")\n",
    "print(f\"O valor máximo da producao_mesal é: {minimo}\")"
   ]
  },
  {
   "cell_type": "code",
   "execution_count": 81,
   "id": "10131d76-a4a1-4da5-b244-9ef7c0237d43",
   "metadata": {},
   "outputs": [
    {
     "name": "stdout",
     "output_type": "stream",
     "text": [
      "[ 951377  935777  979882  853176 1006651 1022703  904145 1002920  986676\n",
      "  993239 1029711  973094]\n"
     ]
    }
   ],
   "source": [
    "# Gerando 12 valores aleatórios a partir do intervalo [847493;1062739]\n",
    "\n",
    "print(np.random.randint(847493, 1062740, 12)) # 847493, 1062740 é o intervalo que desejo\n",
    "                                             # 12 é a quantidade de numeros que espero aparecer"
   ]
  },
  {
   "cell_type": "code",
   "execution_count": 85,
   "id": "e5147be4-255a-412d-b6c9-8838e83ecc6d",
   "metadata": {},
   "outputs": [],
   "source": [
    "#Criando a tabela com valores ficticios\n",
    "import pandas as pd\n",
    "\n",
    "# Criando um dataframe\n",
    "data = {'Mês': ['Jan', 'Fev', 'Mar', 'Abr','Mai', 'Jun', 'Jul', 'Ago', 'Set', 'Out', 'Nov', 'Dez'],\n",
    "        'Produção em toneladas (t)': [951377, 935777, 979882, 853176, 1006651, 1022703, 904145, 1002920, 986676, 993239, 1029711, 973094]}\n",
    "\n",
    "df = pd.DataFrame(data)"
   ]
  },
  {
   "cell_type": "markdown",
   "id": "cdbdbdb6-02d2-4e1b-b145-c857993de839",
   "metadata": {},
   "source": [
    "## A tabela abaixo apresenta a produção mensal de tonaladas de cimento produzidas\n",
    "## pelas empresas do sul do Brasil para o ano de 2024. \n",
    "\n",
    "Obs.: Valores fictícios. "
   ]
  },
  {
   "cell_type": "code",
   "execution_count": 86,
   "id": "54ebd75f-4a06-4383-a96d-56022e95dc75",
   "metadata": {},
   "outputs": [
    {
     "data": {
      "text/html": [
       "<div>\n",
       "<style scoped>\n",
       "    .dataframe tbody tr th:only-of-type {\n",
       "        vertical-align: middle;\n",
       "    }\n",
       "\n",
       "    .dataframe tbody tr th {\n",
       "        vertical-align: top;\n",
       "    }\n",
       "\n",
       "    .dataframe thead th {\n",
       "        text-align: right;\n",
       "    }\n",
       "</style>\n",
       "<table border=\"1\" class=\"dataframe\">\n",
       "  <thead>\n",
       "    <tr style=\"text-align: right;\">\n",
       "      <th></th>\n",
       "      <th>Mês</th>\n",
       "      <th>Produção em toneladas (t)</th>\n",
       "    </tr>\n",
       "  </thead>\n",
       "  <tbody>\n",
       "    <tr>\n",
       "      <th>0</th>\n",
       "      <td>Jan</td>\n",
       "      <td>951377</td>\n",
       "    </tr>\n",
       "    <tr>\n",
       "      <th>1</th>\n",
       "      <td>Fev</td>\n",
       "      <td>935777</td>\n",
       "    </tr>\n",
       "    <tr>\n",
       "      <th>2</th>\n",
       "      <td>Mar</td>\n",
       "      <td>979882</td>\n",
       "    </tr>\n",
       "    <tr>\n",
       "      <th>3</th>\n",
       "      <td>Abr</td>\n",
       "      <td>853176</td>\n",
       "    </tr>\n",
       "    <tr>\n",
       "      <th>4</th>\n",
       "      <td>Mai</td>\n",
       "      <td>1006651</td>\n",
       "    </tr>\n",
       "    <tr>\n",
       "      <th>5</th>\n",
       "      <td>Jun</td>\n",
       "      <td>1022703</td>\n",
       "    </tr>\n",
       "    <tr>\n",
       "      <th>6</th>\n",
       "      <td>Jul</td>\n",
       "      <td>904145</td>\n",
       "    </tr>\n",
       "    <tr>\n",
       "      <th>7</th>\n",
       "      <td>Ago</td>\n",
       "      <td>1002920</td>\n",
       "    </tr>\n",
       "    <tr>\n",
       "      <th>8</th>\n",
       "      <td>Set</td>\n",
       "      <td>986676</td>\n",
       "    </tr>\n",
       "    <tr>\n",
       "      <th>9</th>\n",
       "      <td>Out</td>\n",
       "      <td>993239</td>\n",
       "    </tr>\n",
       "    <tr>\n",
       "      <th>10</th>\n",
       "      <td>Nov</td>\n",
       "      <td>1029711</td>\n",
       "    </tr>\n",
       "    <tr>\n",
       "      <th>11</th>\n",
       "      <td>Dez</td>\n",
       "      <td>973094</td>\n",
       "    </tr>\n",
       "  </tbody>\n",
       "</table>\n",
       "</div>"
      ],
      "text/plain": [
       "    Mês  Produção em toneladas (t)\n",
       "0   Jan                     951377\n",
       "1   Fev                     935777\n",
       "2   Mar                     979882\n",
       "3   Abr                     853176\n",
       "4   Mai                    1006651\n",
       "5   Jun                    1022703\n",
       "6   Jul                     904145\n",
       "7   Ago                    1002920\n",
       "8   Set                     986676\n",
       "9   Out                     993239\n",
       "10  Nov                    1029711\n",
       "11  Dez                     973094"
      ]
     },
     "execution_count": 86,
     "metadata": {},
     "output_type": "execute_result"
    }
   ],
   "source": [
    "df ##df mostra a tabela"
   ]
  },
  {
   "cell_type": "code",
   "execution_count": null,
   "id": "0cd485a5-815d-43c7-86cd-2d73ec8d7670",
   "metadata": {},
   "outputs": [],
   "source": []
  }
 ],
 "metadata": {
  "kernelspec": {
   "display_name": "Python 3 (ipykernel)",
   "language": "python",
   "name": "python3"
  },
  "language_info": {
   "codemirror_mode": {
    "name": "ipython",
    "version": 3
   },
   "file_extension": ".py",
   "mimetype": "text/x-python",
   "name": "python",
   "nbconvert_exporter": "python",
   "pygments_lexer": "ipython3",
   "version": "3.11.8"
  }
 },
 "nbformat": 4,
 "nbformat_minor": 5
}
